{
 "cells": [
  {
   "cell_type": "markdown",
   "metadata": {},
   "source": [
    "# Importing Libraries."
   ]
  },
  {
   "cell_type": "code",
   "execution_count": 1,
   "metadata": {},
   "outputs": [],
   "source": [
    "import numpy as np\n",
    "import cv2\n",
    "import glob\n",
    "import matplotlib.pyplot as plt\n",
    "from sklearn.manifold import TSNE\n",
    "from sklearn.utils import shuffle\n",
    "import time\n",
    "import matplotlib.patheffects as PathEffects\n",
    "%matplotlib inline\n",
    "from sklearn.decomposition import PCA\n",
    "import seaborn as sns\n",
    "sns.set_style('darkgrid')\n",
    "sns.set_palette('muted')\n",
    "sns.set_context(\"notebook\", font_scale=1.5,\n",
    "                rc={\"lines.linewidth\": 2.5})\n",
    "RS = 123\n",
    "np.random.seed(0)"
   ]
  },
  {
   "cell_type": "code",
   "execution_count": 2,
   "metadata": {},
   "outputs": [],
   "source": [
    "def loadDataset(path):\n",
    "    print('Loading Dataset...')\n",
    "    train_x, train_y, test_x, test_y = [], [], [], []\n",
    "    for i in range(10):\n",
    "        for filename in glob.glob(path + '\\\\train\\\\' + str(i)+'\\\\*.png'):\n",
    "            im=cv2.imread(filename)\n",
    "            im = cv2.cvtColor(im, cv2.COLOR_BGR2GRAY)\n",
    "            train_x.append(im)\n",
    "            train_y.append(i)\n",
    "    for i in range(10):\n",
    "        for filename in glob.glob(path + '\\\\test\\\\' + str(i)+'\\\\*.png'):\n",
    "            im=cv2.imread(filename)\n",
    "            im = cv2.cvtColor(im, cv2.COLOR_BGR2GRAY)\n",
    "            test_x.append(im)\n",
    "            test_y.append(i)\n",
    "    print('Dataset loaded...')\n",
    "    return np.array(train_x), np.array(train_y), np.array(test_x),np.array(test_y)"
   ]
  },
  {
   "cell_type": "markdown",
   "metadata": {},
   "source": [
    "# Data Loading"
   ]
  },
  {
   "cell_type": "code",
   "execution_count": 3,
   "metadata": {},
   "outputs": [
    {
     "name": "stdout",
     "output_type": "stream",
     "text": [
      "Loading Dataset...\n",
      "Dataset loaded...\n"
     ]
    }
   ],
   "source": [
    "train_set_x1, train_set_y1, test_set_x1, test_set_y1  = loadDataset('C:/Users/Mudasser Afzal/Desktop/Mudasser_MSDS19067_02')"
   ]
  },
  {
   "cell_type": "code",
   "execution_count": 4,
   "metadata": {},
   "outputs": [],
   "source": [
    "train_set_x, train_set_y, test_set_x, test_set_y = train_set_x1, train_set_y1, test_set_x1, test_set_y1"
   ]
  },
  {
   "cell_type": "code",
   "execution_count": 5,
   "metadata": {},
   "outputs": [
    {
     "name": "stdout",
     "output_type": "stream",
     "text": [
      "train_x shape: (60000, 28, 28)\n",
      "train_y shape: (60000,)\n",
      "test_x shape: (10000, 28, 28)\n",
      "test_y shape: (10000,)\n"
     ]
    }
   ],
   "source": [
    "print(\"train_x shape:\", train_set_x.shape)\n",
    "print(\"train_y shape:\", train_set_y.shape)\n",
    "print(\"test_x shape:\", test_set_x.shape)\n",
    "print(\"test_y shape:\", test_set_y.shape)"
   ]
  },
  {
   "cell_type": "code",
   "execution_count": 6,
   "metadata": {},
   "outputs": [],
   "source": [
    "train_set_x, train_set_y = shuffle(train_set_x, train_set_y)"
   ]
  },
  {
   "cell_type": "markdown",
   "metadata": {},
   "source": [
    "# reshape and Flattening Data"
   ]
  },
  {
   "cell_type": "code",
   "execution_count": 7,
   "metadata": {},
   "outputs": [],
   "source": [
    "train_set_y = np.expand_dims(train_set_y, axis = 1)\n",
    "test_set_y = np.expand_dims(test_set_y, axis=1)\n",
    "train_set_x = train_set_x.flatten().reshape(train_set_x.shape[0],(train_set_x.shape[1] * train_set_x.shape[2]))\n",
    "test_set_x = test_set_x.flatten().reshape(test_set_x.shape[0],(test_set_x.shape[1] * test_set_x.shape[2]))"
   ]
  },
  {
   "cell_type": "code",
   "execution_count": 8,
   "metadata": {},
   "outputs": [
    {
     "name": "stdout",
     "output_type": "stream",
     "text": [
      "train_x shape: (60000, 784)\n",
      "train_y shape: (60000, 1)\n",
      "test_x shape: (10000, 784)\n",
      "test_y shape: (10000, 1)\n"
     ]
    }
   ],
   "source": [
    "print(\"train_x shape:\", train_set_x.shape)\n",
    "print(\"train_y shape:\", train_set_y.shape)\n",
    "print(\"test_x shape:\", test_set_x.shape)\n",
    "print(\"test_y shape:\", test_set_y.shape)"
   ]
  },
  {
   "cell_type": "markdown",
   "metadata": {},
   "source": [
    "# Mean subtraction and normalization"
   ]
  },
  {
   "cell_type": "code",
   "execution_count": 9,
   "metadata": {},
   "outputs": [],
   "source": [
    "train_set_x = (train_set_x - int(np.mean(train_set_x))) / 255\n",
    "test_set_x = (test_set_x - int(np.mean(test_set_x))) / 255"
   ]
  },
  {
   "cell_type": "markdown",
   "metadata": {},
   "source": [
    "# Data Splitting"
   ]
  },
  {
   "cell_type": "code",
   "execution_count": 10,
   "metadata": {},
   "outputs": [],
   "source": [
    "trainX = train_set_x[:50000]\n",
    "trainY = train_set_y[:50000]\n",
    "validX = train_set_x[50000:]\n",
    "validY = train_set_y[50000:]"
   ]
  },
  {
   "cell_type": "markdown",
   "metadata": {},
   "source": [
    "# Encoding of labels"
   ]
  },
  {
   "cell_type": "code",
   "execution_count": 11,
   "metadata": {},
   "outputs": [],
   "source": [
    "def encoder(Y):\n",
    "    c = np.arange(10)\n",
    "    encoding = (c == Y).astype(np.int)\n",
    "    return encoding"
   ]
  },
  {
   "cell_type": "code",
   "execution_count": 12,
   "metadata": {},
   "outputs": [],
   "source": [
    "encoded_train = encoder(trainY)\n",
    "encoded_valid = encoder(validY)\n",
    "test_set_y = encoder(test_set_y)"
   ]
  },
  {
   "cell_type": "code",
   "execution_count": 13,
   "metadata": {},
   "outputs": [
    {
     "name": "stdout",
     "output_type": "stream",
     "text": [
      "train_x shape: (50000, 784)\n",
      "train_y shape: (50000, 10)\n",
      "validation_x shape: (10000, 784)\n",
      "valid_ y shape: (10000, 10)\n",
      "testing data shape (10000, 10)\n"
     ]
    }
   ],
   "source": [
    "print(\"train_x shape:\", trainX.shape)\n",
    "print(\"train_y shape:\", encoded_train.shape)\n",
    "print(\"validation_x shape:\", validX.shape)\n",
    "print(\"valid_ y shape:\", encoded_valid.shape)\n",
    "print(\"testing data shape\", test_set_y.shape)"
   ]
  },
  {
   "cell_type": "code",
   "execution_count": null,
   "metadata": {},
   "outputs": [],
   "source": []
  },
  {
   "cell_type": "markdown",
   "metadata": {},
   "source": [
    "# TSNE PLOT"
   ]
  },
  {
   "cell_type": "code",
   "execution_count": 14,
   "metadata": {},
   "outputs": [],
   "source": [
    "def PlotTsne():\n",
    "    import pandas as pd\n",
    "    feat_cols = [ 'pixel'+str(i) for i in range(train_set_x.shape[1]) ]\n",
    "    df = pd.DataFrame(train_set_x,columns=feat_cols)\n",
    "    df['y'] = train_set_y\n",
    "    df['label'] = df['y'].apply(lambda i: str(i))\n",
    "    X, y = None, None\n",
    "    print('Size of the dataframe: {}'.format(df.shape))\n",
    "    np.random.seed(42)\n",
    "    rndperm = np.random.permutation(df.shape[0])\n",
    "    N = 10000\n",
    "    df_subset = df.loc[rndperm[:N],:].copy()\n",
    "    data_subset = df_subset[feat_cols].values\n",
    "    # PCA for reducing Dimensions\n",
    "    pca_50 = PCA(n_components=50)\n",
    "    pca_result_50 = pca_50.fit_transform(data_subset)\n",
    "    time_start = time.time()\n",
    "    tsne = TSNE(n_components=2, verbose=1, perplexity=40, n_iter=500)\n",
    "    tsne_results = tsne.fit_transform(pca_result_50)\n",
    "    df_subset['tsne-2d-one'] = tsne_results[:,0]\n",
    "    df_subset['tsne-2d-two'] = tsne_results[:,1]\n",
    "    plt.figure(figsize=(16,10))\n",
    "    sns.scatterplot(\n",
    "        x=\"tsne-2d-one\", y=\"tsne-2d-two\",\n",
    "        hue=\"y\",\n",
    "        palette=sns.color_palette(\"hls\", 10),\n",
    "        data=df_subset,\n",
    "        legend=\"full\",\n",
    "        alpha=0.3\n",
    "    )"
   ]
  },
  {
   "cell_type": "code",
   "execution_count": null,
   "metadata": {
    "scrolled": false
   },
   "outputs": [],
   "source": [
    "PlotTsne()"
   ]
  },
  {
   "cell_type": "markdown",
   "metadata": {},
   "source": [
    "# Neural network architecture"
   ]
  },
  {
   "cell_type": "code",
   "execution_count": 15,
   "metadata": {},
   "outputs": [],
   "source": [
    "class Neural_Network(object):\n",
    "    \n",
    "    def __init__(self, neurons_per_layer, no_of_layers = 2, inputSize = 784):        \n",
    "        # size of layers\n",
    "        self.inputSize = inputSize\n",
    "        self.hidden1 = neurons_per_layer[0]\n",
    "        self.hidden2 = neurons_per_layer[1]\n",
    "        self.outputSize = neurons_per_layer[2] \n",
    "        #weights\n",
    "        self.model = {}\n",
    "        w1 = np.random.randn(self.inputSize, self.hidden1) #784x128\n",
    "        b1 = np.random.randn(1,self.hidden1)\n",
    "        w2 = np.random.randn(self.hidden1, self.hidden2)   #128x64\n",
    "        b2 = np.random.randn(1,self.hidden2)\n",
    "        w3 = np.random.randn(self.hidden2, self.outputSize) #64x10\n",
    "        b3 = np.random.randn(1,self.outputSize)\n",
    "        print('Network Architecture weights',w1.shape, w2.shape, w3.shape)\n",
    "        print('Network Architecture biases',b1.shape, b2.shape, b3.shape)\n",
    "        self.model['w1'] = w1\n",
    "        self.model['b1'] = b1\n",
    "        self.model['w2'] = w2\n",
    "        self.model['b2'] = b2\n",
    "        self.model['w3'] = w3\n",
    "        self.model['b3'] = b3\n",
    "        \n",
    "        \n",
    "    def sigmoid(self, s):\n",
    "        activated_output = 1 / (1 + (np.exp(-s)))\n",
    "        return activated_output\n",
    "\n",
    "    def sigmoid_derivative(self, s):\n",
    "        return s * (1 - s)\n",
    "\n",
    "    def softmax(self, s):\n",
    "        e = np.exp(s - np.max(s))\n",
    "        return e/ np.sum(e, axis=1, keepdims=True)\n",
    "\n",
    "    def softmax_derivative(self, s):\n",
    "        z = self.softmax(s)\n",
    "        D = -np.outer(z, z) + np.diag(z.flatten())\n",
    "        return D\n",
    "    \n",
    "    def feedforward(self, X):\n",
    "        forward_result = {}\n",
    "        \n",
    "        w1, b1, w2, b2, w3, b3 = self.model['w1'], self.model['b1'], self.model['w2'], self.model['b2'], self.model['w3'], self.model['b3']\n",
    "        \n",
    "        z1 = X.dot(w1) + b1\n",
    "        a1 = self.sigmoid(z1)\n",
    "       \n",
    "        z2 = a1.dot(w2) + b2\n",
    "        a2 = self.sigmoid(z2)\n",
    "    \n",
    "        z3 = a2.dot(w3) + b3\n",
    "        a3 = self.softmax(z3)\n",
    "\n",
    "        forward_result['z1'] = z1\n",
    "        forward_result['a1'] = a1\n",
    "        forward_result['z2'] = z2\n",
    "        forward_result['a2'] = a2\n",
    "        forward_result['z3'] = z3\n",
    "        forward_result['a3'] = a3\n",
    "        \n",
    "        return forward_result\n",
    "    \n",
    "    def back_propagation(self, X, Y, forward_result, lr):\n",
    "        \n",
    "        w1, b1, w2, b2, w3, b3 = self.model['w1'],self.model['b1'], self.model['w2'],self.model['b2'], \\\n",
    "        self.model['w3'],self.model['b3']\n",
    "        \n",
    "        gradient = {}\n",
    "    \n",
    "        a1, a2, a3 = forward_result['a1'], forward_result['a2'], forward_result['a3']\n",
    "    \n",
    "        m = X.shape[0]\n",
    "        \n",
    "        delta_out = a3 - Y\n",
    "        delta_w3 = 1/m * np.dot(a2.T, delta_out)\n",
    "        delta_b3 = 1/m * np.sum(delta_out, axis=0, keepdims = True)\n",
    "        \n",
    "        delta_h2 = np.multiply(np.dot(delta_out, w3.T) , self.sigmoid_derivative(a2))\n",
    "        delta_w2 = 1/m * np.dot(a1.T, delta_h2)\n",
    "        delta_b2 = 1/m * np.sum(delta_h2, axis=0, keepdims = True)\n",
    "        \n",
    "\n",
    "        delta_h1 = np.multiply(np.dot(delta_h2, w2.T) , self.sigmoid_derivative(a1))\n",
    "        delta_w1 = 1/m * np.dot(X.T, delta_h1)\n",
    "        delta_b1 = 1/m * np.sum(delta_h1, axis=0, keepdims = True)\n",
    "        \n",
    "        gradient['dw1'] = delta_w1\n",
    "        gradient['db1'] = delta_b1\n",
    "        gradient['dw2'] = delta_w2\n",
    "        gradient['db2'] = delta_b2\n",
    "        gradient['dw3'] = delta_w3\n",
    "        gradient['db3'] = delta_b3   \n",
    "        return gradient\n",
    "    \n",
    "       \n",
    "    def weight_update(self, model, gradient, lr):\n",
    "    \n",
    "#         delta_w1, delta_b1, delta_w2, delta_b2, delta_w3, delta_b3 = gradient['dw1'], gradient['db1'],gradient['dw2'], \\\n",
    "#         gradient['db2'], gradient['dw3'], gradient['db3']\n",
    "        \n",
    " ###################### weight Updating here #####################\n",
    "        \n",
    "        self.model['w1'] = self.model['w1'] - (lr * gradient['dw1'])\n",
    "        self.model['b1'] = self.model['b1'] - (lr * gradient['db1'])\n",
    "        self.model['w2'] = self.model['w2'] - (lr * gradient['dw2'])\n",
    "        self.model['b2'] = self.model['b2'] - (lr * gradient['db2'])\n",
    "        self.model['w3'] = self.model['w3'] - (lr * gradient['dw3'])\n",
    "        self.model['b3'] = self.model['b3'] - (lr * gradient['db3'])\n",
    "            \n",
    "    def crossentropy(self, Y, Y_pred):\n",
    "        return (-np.sum(Y * np.log2(Y_pred+1e-12))) / len(Y)\n",
    "    \n",
    "    def batch_gradient(self, batch_size, trainX, trainY, learningRate):\n",
    "        for j in range(0, trainX.shape[0], batch_size):\n",
    "            X = trainX[j:j+batch_size]\n",
    "            Y = trainY[j:j+batch_size]\n",
    "            forward_result = self.feedforward(X)\n",
    "            gradient = self.back_propagation(X, Y, forward_result, learningRate)\n",
    "            self.weight_update(self.model, gradient, learningRate)\n",
    "\n",
    "    def train(self, trainX, trainY, batch_size, epochs, learningRate,validationX = 'None', validationY = 'None'):\n",
    "\n",
    "        train_error = []\n",
    "        valid_error = []\n",
    "        valid_accu = []\n",
    "        train_accu = []\n",
    "        \n",
    "        for i in range(epochs):\n",
    "            \n",
    "            self.batch_gradient(batch_size, trainX, trainY, learningRate)\n",
    "            \n",
    "            train_pred = self.feedforward(trainX)\n",
    "            \n",
    "            entropy = self.crossentropy(trainY, train_pred['a3'])\n",
    "            \n",
    "            train_error.append(entropy)\n",
    "\n",
    "            val_pred = self.feedforward(validationX)\n",
    "            err = self.crossentropy(validationY, val_pred['a3'])\n",
    "            valid_error.append(err)\n",
    "                \n",
    "                            \n",
    "            taccu = self.accuracy(trainX, trainY)\n",
    "            \n",
    "            train_accu.append(taccu)\n",
    "\n",
    "            accu= self.accuracy(validationX, validationY)\n",
    "            valid_accu.append(accu)\n",
    "            \n",
    "            print (\"epoch:\",i, \"training Loss:\" ,entropy, \"validation Loss:\" ,err, \\\n",
    "                      \"train accuracy\", taccu, \"valid accuracy\", accu)\n",
    "            \n",
    "        self.curve_plot(epochs, train_error, valid_error, train_accu, valid_accu)\n",
    "        \n",
    "    def curve_plot(self, epochs, train_error, valid_error, train_accu, valid_accu):\n",
    "        \n",
    "        plt.legend(loc='best')\n",
    "        plt.title(\"loss curve\")\n",
    "        plt.plot(range(epochs), train_error)\n",
    "        plt.plot(range(epochs), valid_error)\n",
    "        plt.show()\n",
    "        plt.legend(loc='best')\n",
    "        plt.title(\"accuracy Curve\")\n",
    "        plt.plot(range(epochs), train_accu)\n",
    "        plt.plot(range(epochs), valid_accu)\n",
    "        plt.show()\n",
    "\n",
    "        \n",
    "        \n",
    "    def predict(self, X):\n",
    "        forward_result = self.feedforward(X)\n",
    "        return forward_result['a3']\n",
    "    \n",
    "    def accuracy(self, X, Y):\n",
    "    \n",
    "        test_pred = self.predict(X)\n",
    "        pred = np.argmax(test_pred, axis=1)\n",
    "        y = np.argmax(Y, axis=1)        \n",
    "        accuracy = (pred == y)\n",
    "        accuracy = np.mean(accuracy)\n",
    "        return accuracy * 100\n",
    "        \n",
    "    def saveModel(self, name):\n",
    "        np.savez(name, self.model['w1'],self.model['b1'],self.model['w2'],\\\n",
    "                 self.model['b2'],self.model['w3'],self.model['b3'], allow_pickle=True)\n",
    "        \n",
    "    def loadModel(self,name):\n",
    "        file = np.load(name, allow_pickle=True)\n",
    "        self.model['w1'] = file['arr_0']\n",
    "        self.model['b1'] = file['arr_1']\n",
    "        self.model['w2'] = file['arr_2']\n",
    "        self.model['b2'] = file['arr_3']\n",
    "        self.model['w3'] = file['arr_4']\n",
    "        self.model['b3'] = file['arr_5']"
   ]
  },
  {
   "cell_type": "code",
   "execution_count": 16,
   "metadata": {
    "scrolled": true
   },
   "outputs": [
    {
     "name": "stdout",
     "output_type": "stream",
     "text": [
      "Network Architecture weights (784, 128) (128, 128) (128, 10)\n",
      "Network Architecture biases (1, 128) (1, 128) (1, 10)\n",
      "epoch: 0 training Loss: 3.151589644142922 validation Loss: 3.1387645588766206 train accuracy 21.794 valid accuracy 22.23\n",
      "epoch: 1 training Loss: 3.0290382836241636 validation Loss: 3.02478169830588 train accuracy 25.946 valid accuracy 26.240000000000002\n",
      "epoch: 2 training Loss: 2.8899233193496188 validation Loss: 2.882783425152339 train accuracy 29.609999999999996 valid accuracy 29.86\n",
      "epoch: 3 training Loss: 2.7643853573519084 validation Loss: 2.7592313341565067 train accuracy 32.300000000000004 valid accuracy 32.24\n",
      "epoch: 4 training Loss: 2.646506182985515 validation Loss: 2.645837208697666 train accuracy 35.164 valid accuracy 34.88\n",
      "epoch: 5 training Loss: 2.5431278564559348 validation Loss: 2.5446401055006382 train accuracy 37.66 valid accuracy 37.24\n",
      "epoch: 6 training Loss: 2.4610869860978033 validation Loss: 2.465432756764934 train accuracy 39.534000000000006 valid accuracy 39.09\n",
      "epoch: 7 training Loss: 2.3845538512216145 validation Loss: 2.392407817240368 train accuracy 41.166000000000004 valid accuracy 40.839999999999996\n",
      "epoch: 8 training Loss: 2.3135582349114254 validation Loss: 2.3250916964636805 train accuracy 42.67 valid accuracy 42.58\n",
      "epoch: 9 training Loss: 2.2496782480390474 validation Loss: 2.2648913320847055 train accuracy 44.080000000000005 valid accuracy 44.01\n",
      "epoch: 10 training Loss: 2.1927138125800143 validation Loss: 2.2113919947848197 train accuracy 45.358 valid accuracy 45.16\n",
      "epoch: 11 training Loss: 2.1418224713132035 validation Loss: 2.163880228402025 train accuracy 46.568 valid accuracy 46.45\n",
      "epoch: 12 training Loss: 2.094128768537368 validation Loss: 2.1194192682596995 train accuracy 47.85 valid accuracy 47.58\n",
      "epoch: 13 training Loss: 2.0507202742496413 validation Loss: 2.0784903013557248 train accuracy 48.97 valid accuracy 48.59\n",
      "epoch: 14 training Loss: 2.0091647600671774 validation Loss: 2.0390447194959953 train accuracy 50.07 valid accuracy 49.6\n",
      "epoch: 15 training Loss: 1.9698466765963463 validation Loss: 2.0015304614722127 train accuracy 51.212 valid accuracy 50.67\n",
      "epoch: 16 training Loss: 1.9329129067966357 validation Loss: 1.966211543450669 train accuracy 52.156000000000006 valid accuracy 51.76\n",
      "epoch: 17 training Loss: 1.8980981384537678 validation Loss: 1.932878409931193 train accuracy 53.03600000000001 valid accuracy 52.480000000000004\n",
      "epoch: 18 training Loss: 1.8648677763557129 validation Loss: 1.9011104520878155 train accuracy 53.984 valid accuracy 53.410000000000004\n",
      "epoch: 19 training Loss: 1.8329375569714255 validation Loss: 1.8707082128922048 train accuracy 54.726 valid accuracy 54.279999999999994\n",
      "epoch: 20 training Loss: 1.8021721331841665 validation Loss: 1.8415605319153154 train accuracy 55.513999999999996 valid accuracy 54.93\n",
      "epoch: 21 training Loss: 1.7726027679759864 validation Loss: 1.8136971078358646 train accuracy 56.374 valid accuracy 55.720000000000006\n",
      "epoch: 22 training Loss: 1.7444222115846633 validation Loss: 1.7872975219409206 train accuracy 57.135999999999996 valid accuracy 56.3\n",
      "epoch: 23 training Loss: 1.7177624646217617 validation Loss: 1.7624844515149496 train accuracy 57.830000000000005 valid accuracy 57.08\n",
      "epoch: 24 training Loss: 1.6926072386746365 validation Loss: 1.739213384519933 train accuracy 58.484 valid accuracy 57.76\n",
      "epoch: 25 training Loss: 1.6688477451928705 validation Loss: 1.71731684386739 train accuracy 59.106 valid accuracy 58.46\n",
      "epoch: 26 training Loss: 1.6463455956940918 validation Loss: 1.6966021437952925 train accuracy 59.718 valid accuracy 59.199999999999996\n",
      "epoch: 27 training Loss: 1.6249747395264338 validation Loss: 1.6769074848476604 train accuracy 60.27 valid accuracy 59.599999999999994\n",
      "epoch: 28 training Loss: 1.6046377196564392 validation Loss: 1.6581394903716544 train accuracy 60.828 valid accuracy 60.019999999999996\n",
      "epoch: 29 training Loss: 1.585257292312574 validation Loss: 1.640285909700593 train accuracy 61.260000000000005 valid accuracy 60.550000000000004\n",
      "epoch: 30 training Loss: 1.5667600234673207 validation Loss: 1.6233099633134118 train accuracy 61.8 valid accuracy 60.92999999999999\n",
      "epoch: 31 training Loss: 1.5490631782256412 validation Loss: 1.6071303442104552 train accuracy 62.302 valid accuracy 61.42999999999999\n",
      "epoch: 32 training Loss: 1.5320837874424948 validation Loss: 1.5916584653187251 train accuracy 62.758 valid accuracy 61.88\n",
      "epoch: 33 training Loss: 1.515752200406868 validation Loss: 1.5768231279557268 train accuracy 63.256 valid accuracy 62.21\n",
      "epoch: 34 training Loss: 1.500011861790673 validation Loss: 1.562570857896947 train accuracy 63.686 valid accuracy 62.519999999999996\n",
      "epoch: 35 training Loss: 1.4848159426748573 validation Loss: 1.548860031959106 train accuracy 64.03999999999999 valid accuracy 62.980000000000004\n",
      "epoch: 36 training Loss: 1.4701243953303842 validation Loss: 1.535656000560423 train accuracy 64.39200000000001 valid accuracy 63.33\n",
      "epoch: 37 training Loss: 1.4559017929778664 validation Loss: 1.5229279530357018 train accuracy 64.782 valid accuracy 63.660000000000004\n",
      "epoch: 38 training Loss: 1.4421161796774744 validation Loss: 1.5106473864594845 train accuracy 65.134 valid accuracy 64.05\n",
      "epoch: 39 training Loss: 1.4287388365140126 validation Loss: 1.4987877223470936 train accuracy 65.45400000000001 valid accuracy 64.41\n",
      "epoch: 40 training Loss: 1.4157446268489986 validation Loss: 1.4873244269068457 train accuracy 65.812 valid accuracy 64.64\n",
      "epoch: 41 training Loss: 1.4031125987027289 validation Loss: 1.4762352484489756 train accuracy 66.122 valid accuracy 64.94\n",
      "epoch: 42 training Loss: 1.3908264717432681 validation Loss: 1.4655005393642584 train accuracy 66.40599999999999 valid accuracy 65.22\n",
      "epoch: 43 training Loss: 1.3788744528370613 validation Loss: 1.4551035148058393 train accuracy 66.74600000000001 valid accuracy 65.53999999999999\n",
      "epoch: 44 training Loss: 1.3672480772448925 validation Loss: 1.4450300355536418 train accuracy 67.10199999999999 valid accuracy 65.8\n",
      "epoch: 45 training Loss: 1.3559404884240989 validation Loss: 1.435267766398277 train accuracy 67.43 valid accuracy 66.09\n",
      "epoch: 46 training Loss: 1.3449449004133867 validation Loss: 1.425805099375914 train accuracy 67.726 valid accuracy 66.28\n",
      "epoch: 47 training Loss: 1.3342536611256899 validation Loss: 1.416630347680872 train accuracy 67.982 valid accuracy 66.47999999999999\n",
      "epoch: 48 training Loss: 1.323857895111394 validation Loss: 1.4077314074492568 train accuracy 68.27 valid accuracy 66.66\n",
      "epoch: 49 training Loss: 1.3137475287984093 validation Loss: 1.3990957967322297 train accuracy 68.538 valid accuracy 66.88\n",
      "epoch: 50 training Loss: 1.3039115313724647 validation Loss: 1.390710902334048 train accuracy 68.826 valid accuracy 67.04\n",
      "epoch: 51 training Loss: 1.294338272931986 validation Loss: 1.3825643041613276 train accuracy 69.116 valid accuracy 67.2\n",
      "epoch: 52 training Loss: 1.2850159358508977 validation Loss: 1.3746440968310092 train accuracy 69.394 valid accuracy 67.44\n",
      "epoch: 53 training Loss: 1.2759329251127824 validation Loss: 1.366939159884186 train accuracy 69.662 valid accuracy 67.60000000000001\n",
      "epoch: 54 training Loss: 1.2670782323433047 validation Loss: 1.3594393488191423 train accuracy 69.918 valid accuracy 67.83\n",
      "epoch: 55 training Loss: 1.2584417220520658 validation Loss: 1.3521355964645094 train accuracy 70.194 valid accuracy 68.0\n",
      "epoch: 56 training Loss: 1.2500143217016935 validation Loss: 1.3450199298087022 train accuracy 70.414 valid accuracy 68.27\n",
      "epoch: 57 training Loss: 1.241788107209071 validation Loss: 1.3380854225117114 train accuracy 70.662 valid accuracy 68.5\n",
      "epoch: 58 training Loss: 1.2337562849143227 validation Loss: 1.3313261153075087 train accuracy 70.856 valid accuracy 68.71000000000001\n",
      "epoch: 59 training Loss: 1.2259130820488588 validation Loss: 1.3247369335178945 train accuracy 71.068 valid accuracy 68.93\n",
      "epoch: 60 training Loss: 1.2182535708969549 validation Loss: 1.318313600730985 train accuracy 71.296 valid accuracy 69.14\n",
      "epoch: 61 training Loss: 1.2107734641221224 validation Loss: 1.3120525069840352 train accuracy 71.47 valid accuracy 69.33\n",
      "epoch: 62 training Loss: 1.2034689187809702 validation Loss: 1.305950495137111 train accuracy 71.648 valid accuracy 69.53\n"
     ]
    },
    {
     "name": "stdout",
     "output_type": "stream",
     "text": [
      "epoch: 63 training Loss: 1.196336372977023 validation Loss: 1.300004601347092 train accuracy 71.814 valid accuracy 69.72\n",
      "epoch: 64 training Loss: 1.1893724276104454 validation Loss: 1.2942118369834636 train accuracy 71.968 valid accuracy 69.88\n",
      "epoch: 65 training Loss: 1.182573768380984 validation Loss: 1.2885690556208031 train accuracy 72.15599999999999 valid accuracy 70.03\n",
      "epoch: 66 training Loss: 1.1759370876948363 validation Loss: 1.2830728724746685 train accuracy 72.312 valid accuracy 70.19\n",
      "epoch: 67 training Loss: 1.1694589461498643 validation Loss: 1.2777195817070983 train accuracy 72.49799999999999 valid accuracy 70.36\n",
      "epoch: 68 training Loss: 1.1631355539863022 validation Loss: 1.2725050561474047 train accuracy 72.67 valid accuracy 70.54\n",
      "epoch: 69 training Loss: 1.1569625401443453 validation Loss: 1.2674246674073677 train accuracy 72.844 valid accuracy 70.6\n",
      "epoch: 70 training Loss: 1.1509348191223931 validation Loss: 1.2624732739821953 train accuracy 72.974 valid accuracy 70.71\n",
      "epoch: 71 training Loss: 1.1450466047220096 validation Loss: 1.2576452803463833 train accuracy 73.10600000000001 valid accuracy 70.8\n",
      "epoch: 72 training Loss: 1.1392915271633894 validation Loss: 1.2529347287145574 train accuracy 73.256 valid accuracy 70.97\n",
      "epoch: 73 training Loss: 1.1336627833170403 validation Loss: 1.2483353903889596 train accuracy 73.424 valid accuracy 71.1\n",
      "epoch: 74 training Loss: 1.1281532845339441 validation Loss: 1.2438408538414387 train accuracy 73.57000000000001 valid accuracy 71.19\n",
      "epoch: 75 training Loss: 1.1227558036748335 validation Loss: 1.239444624690349 train accuracy 73.732 valid accuracy 71.35000000000001\n",
      "epoch: 76 training Loss: 1.117463134029486 validation Loss: 1.235140250156385 train accuracy 73.88 valid accuracy 71.46000000000001\n",
      "epoch: 77 training Loss: 1.1122682652527525 validation Loss: 1.230921468589954 train accuracy 74.044 valid accuracy 71.5\n",
      "epoch: 78 training Loss: 1.1071645694821364 validation Loss: 1.2267823735706134 train accuracy 74.19200000000001 valid accuracy 71.57\n",
      "epoch: 79 training Loss: 1.1021459820215815 validation Loss: 1.2227175755908586 train accuracy 74.318 valid accuracy 71.67999999999999\n",
      "epoch: 80 training Loss: 1.0972071572238404 validation Loss: 1.2187223423976095 train accuracy 74.47200000000001 valid accuracy 71.83\n",
      "epoch: 81 training Loss: 1.0923435811139526 validation Loss: 1.2147927007902957 train accuracy 74.572 valid accuracy 71.85000000000001\n",
      "epoch: 82 training Loss: 1.087551627003365 validation Loss: 1.2109254873064061 train accuracy 74.68599999999999 valid accuracy 71.94\n",
      "epoch: 83 training Loss: 1.082828547755693 validation Loss: 1.207118341987387 train accuracy 74.8 valid accuracy 71.94\n",
      "epoch: 84 training Loss: 1.078172407054154 validation Loss: 1.2033696472239148 train accuracy 74.878 valid accuracy 72.1\n",
      "epoch: 85 training Loss: 1.0735819602902812 validation Loss: 1.1996784211210165 train accuracy 75.008 valid accuracy 72.11999999999999\n",
      "epoch: 86 training Loss: 1.0690565018944143 validation Loss: 1.196044180452955 train accuracy 75.124 valid accuracy 72.25\n",
      "epoch: 87 training Loss: 1.0645956988927219 validation Loss: 1.1924667910281388 train accuracy 75.238 valid accuracy 72.46000000000001\n",
      "epoch: 88 training Loss: 1.0601994298463837 validation Loss: 1.1889463227992447 train accuracy 75.378 valid accuracy 72.59\n",
      "epoch: 89 training Loss: 1.0558676446304782 validation Loss: 1.1854829237753184 train accuracy 75.478 valid accuracy 72.69\n",
      "epoch: 90 training Loss: 1.0516002549215344 validation Loss: 1.1820767217671628 train accuracy 75.63 valid accuracy 72.82\n",
      "epoch: 91 training Loss: 1.0473970592028148 validation Loss: 1.1787277575025132 train accuracy 75.734 valid accuracy 72.91\n",
      "epoch: 92 training Loss: 1.0432577008034007 validation Loss: 1.175435947807228 train accuracy 75.852 valid accuracy 73.02\n",
      "epoch: 93 training Loss: 1.039181653742892 validation Loss: 1.1722010740800246 train accuracy 75.974 valid accuracy 73.1\n",
      "epoch: 94 training Loss: 1.0351682292116862 validation Loss: 1.169022789434941 train accuracy 76.058 valid accuracy 73.24000000000001\n",
      "epoch: 95 training Loss: 1.0312165951991639 validation Loss: 1.1659006375058387 train accuracy 76.176 valid accuracy 73.35000000000001\n",
      "epoch: 96 training Loss: 1.0273258026545617 validation Loss: 1.1628340766320773 train accuracy 76.27199999999999 valid accuracy 73.48\n",
      "epoch: 97 training Loss: 1.0234948131113588 validation Loss: 1.159822504531611 train accuracy 76.348 valid accuracy 73.58\n",
      "epoch: 98 training Loss: 1.0197225244532897 validation Loss: 1.1568652802071822 train accuracy 76.444 valid accuracy 73.69\n"
     ]
    },
    {
     "name": "stderr",
     "output_type": "stream",
     "text": [
      "No handles with labels found to put in legend.\n"
     ]
    },
    {
     "name": "stdout",
     "output_type": "stream",
     "text": [
      "epoch: 99 training Loss: 1.0160077930881226 validation Loss: 1.1539617413967806 train accuracy 76.536 valid accuracy 73.76\n"
     ]
    },
    {
     "data": {
      "image/png": "[encoded data removed]",
      "text/plain": [
       "<Figure size 432x288 with 1 Axes>"
      ]
     },
     "metadata": {},
     "output_type": "display_data"
    },
    {
     "name": "stderr",
     "output_type": "stream",
     "text": [
      "No handles with labels found to put in legend.\n"
     ]
    },
    {
     "data": {
      "image/png": "[encoded data removed]",
      "text/plain": [
       "<Figure size 432x288 with 1 Axes>"
      ]
     },
     "metadata": {},
     "output_type": "display_data"
    }
   ],
   "source": [
    "nn = Neural_Network([128,128,10])\n",
    "nn.train(trainX, encoded_train, batch_size = 128, epochs = 100, \n",
    "         learningRate = 0.1, validationX = validX, validationY = encoded_valid)"
   ]
  },
  {
   "cell_type": "code",
   "execution_count": 17,
   "metadata": {},
   "outputs": [],
   "source": [
    "nn.saveModel(\"BestModelTask3\")"
   ]
  },
  {
   "cell_type": "code",
   "execution_count": 18,
   "metadata": {},
   "outputs": [
    {
     "data": {
      "text/plain": [
       "75.03"
      ]
     },
     "execution_count": 18,
     "metadata": {},
     "output_type": "execute_result"
    }
   ],
   "source": [
    "nn.loadModel('BestModelTask3.npz')\n",
    "nn.accuracy(test_set_x,test_set_y)"
   ]
  },
  {
   "cell_type": "code",
   "execution_count": 19,
   "metadata": {},
   "outputs": [
    {
     "data": {
      "text/plain": [
       "array([[ 774,    0,   37,   36,   20,   20,   16,    4,   70,    3],\n",
       "       [   0, 1065,   28,   13,    4,    4,    6,    3,   12,    0],\n",
       "       [  20,    7,  840,   50,   20,    1,   40,    9,   43,    2],\n",
       "       [  17,   14,  127,  694,   12,   34,    4,   25,   67,   16],\n",
       "       [  12,    3,   14,   10,  780,    9,   23,   25,   23,   83],\n",
       "       [  23,   15,   27,  164,   53,  426,   29,   10,  131,   14],\n",
       "       [  18,    8,   59,    9,   34,   13,  805,    0,   12,    0],\n",
       "       [   1,   12,   25,   17,   48,    5,    1,  835,   12,   72],\n",
       "       [  44,   11,   57,   74,   38,   31,    7,   14,  683,   15],\n",
       "       [   5,    5,    9,   15,  252,    2,    3,   89,   28,  601]],\n",
       "      dtype=int64)"
      ]
     },
     "execution_count": 19,
     "metadata": {},
     "output_type": "execute_result"
    }
   ],
   "source": [
    "from sklearn.metrics import confusion_matrix\n",
    "y_pred = nn.predict(test_set_x)\n",
    "p = np.argmax(y_pred, axis=1)\n",
    "y = np.argmax(test_set_y, axis=1)\n",
    "confusion_matrix(y, p)"
   ]
  }
 ],
 "metadata": {
  "kernelspec": {
   "display_name": "Python 3",
   "language": "python",
   "name": "python3"
  },
  "language_info": {
   "codemirror_mode": {
    "name": "ipython",
    "version": 3
   },
   "file_extension": ".py",
   "mimetype": "text/x-python",
   "name": "python",
   "nbconvert_exporter": "python",
   "pygments_lexer": "ipython3",
   "version": "3.6.8"
  }
 },
 "nbformat": 4,
 "nbformat_minor": 4
}
